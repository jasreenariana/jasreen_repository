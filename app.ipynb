{
 "cells": [
  {
   "cell_type": "code",
   "execution_count": 1,
   "id": "68136cf0",
   "metadata": {},
   "outputs": [
    {
     "name": "stdout",
     "output_type": "stream",
     "text": [
      "hello world\n"
     ]
    }
   ],
   "source": [
    "print('hello world')"
   ]
  },
  {
   "cell_type": "code",
   "execution_count": 2,
   "id": "bc968435",
   "metadata": {},
   "outputs": [
    {
     "data": {
      "text/plain": [
       "''"
      ]
     },
     "execution_count": 2,
     "metadata": {},
     "output_type": "execute_result"
    }
   ],
   "source": [
    "\"\"\"\"\"\""
   ]
  },
  {
   "cell_type": "code",
   "execution_count": 4,
   "id": "99a604c5",
   "metadata": {},
   "outputs": [
    {
     "name": "stdout",
     "output_type": "stream",
     "text": [
      "hello\n"
     ]
    }
   ],
   "source": [
    "#first\n",
    "print('hello')"
   ]
  },
  {
   "cell_type": "code",
   "execution_count": 5,
   "id": "36b859ca",
   "metadata": {},
   "outputs": [
    {
     "name": "stdout",
     "output_type": "stream",
     "text": [
      "Ariana\n"
     ]
    }
   ],
   "source": [
    "name = input('What is your name')\n",
    "\n",
    "print(name)\n"
   ]
  },
  {
   "cell_type": "code",
   "execution_count": 6,
   "id": "0d6dbbd8",
   "metadata": {},
   "outputs": [],
   "source": [
    "name = 'Ariana'"
   ]
  },
  {
   "cell_type": "code",
   "execution_count": 7,
   "id": "873557fa",
   "metadata": {},
   "outputs": [
    {
     "name": "stdout",
     "output_type": "stream",
     "text": [
      "hello Ariana\n"
     ]
    }
   ],
   "source": [
    "print('hello Ariana')"
   ]
  },
  {
   "cell_type": "code",
   "execution_count": 8,
   "id": "dd6185de",
   "metadata": {},
   "outputs": [
    {
     "name": "stdout",
     "output_type": "stream",
     "text": [
      "Hello Ariana\n",
      "Hello Ariana\n",
      "Hello Ariana\n",
      "Hello Ariana\n",
      "Hello Ariana\n"
     ]
    }
   ],
   "source": [
    "print('Hello Ariana')\n",
    "print('Hello Ariana')\n",
    "print('Hello Ariana')\n",
    "print('Hello Ariana')\n",
    "print('Hello Ariana')\n"
   ]
  },
  {
   "cell_type": "code",
   "execution_count": 9,
   "id": "ef84385e",
   "metadata": {},
   "outputs": [
    {
     "name": "stdout",
     "output_type": "stream",
     "text": [
      "Hello, {name}\n"
     ]
    }
   ],
   "source": [
    "name = 'Ariana Jasli'\n",
    "\n",
    "print('Hello, {name}')\n"
   ]
  },
  {
   "cell_type": "code",
   "execution_count": 10,
   "id": "257f56b6",
   "metadata": {},
   "outputs": [
    {
     "name": "stdout",
     "output_type": "stream",
     "text": [
      "Hello,{name}\n"
     ]
    }
   ],
   "source": [
    "name = 'Ariana Jasli'\n",
    "\n",
    "print(\"Hello,{name}\")"
   ]
  },
  {
   "cell_type": "code",
   "execution_count": 11,
   "id": "f79e8860",
   "metadata": {},
   "outputs": [
    {
     "name": "stdout",
     "output_type": "stream",
     "text": [
      "My name isAriana Jasli\n"
     ]
    }
   ],
   "source": [
    "name = 'Ariana Jasli'\n",
    "\n",
    "print('My name is' +name)"
   ]
  },
  {
   "cell_type": "code",
   "execution_count": 12,
   "id": "77040eb3",
   "metadata": {},
   "outputs": [],
   "source": [
    "name = 'Ariana Jasli'"
   ]
  },
  {
   "cell_type": "code",
   "execution_count": 13,
   "id": "0ca2906c",
   "metadata": {},
   "outputs": [
    {
     "name": "stdout",
     "output_type": "stream",
     "text": [
      "My name is Ariana Jasli\n"
     ]
    }
   ],
   "source": [
    "name = 'Ariana Jasli'\n",
    "\n",
    "print(f\"My name is {name}\")"
   ]
  },
  {
   "cell_type": "code",
   "execution_count": 14,
   "id": "75e5e155",
   "metadata": {},
   "outputs": [
    {
     "name": "stdout",
     "output_type": "stream",
     "text": [
      "My name is Ariana Jasli and I am 22 years old.\n"
     ]
    }
   ],
   "source": [
    "name = 'Ariana Jasli'\n",
    "age = '22'\n",
    "\n",
    "print(f'My name is {name} and I am {age} years old.')"
   ]
  },
  {
   "cell_type": "code",
   "execution_count": 16,
   "id": "815c1db1",
   "metadata": {},
   "outputs": [
    {
     "name": "stdout",
     "output_type": "stream",
     "text": [
      "<class 'int'>\n"
     ]
    }
   ],
   "source": [
    "age = '22'\n",
    "age = int(age)\n",
    "\n",
    "print(type(age))"
   ]
  },
  {
   "cell_type": "code",
   "execution_count": 17,
   "id": "c50e1d3d",
   "metadata": {},
   "outputs": [
    {
     "data": {
      "text/plain": [
       "'Ariana'"
      ]
     },
     "execution_count": 17,
     "metadata": {},
     "output_type": "execute_result"
    }
   ],
   "source": [
    "name = \"ariana\"\n",
    "name.capitalize()"
   ]
  },
  {
   "cell_type": "code",
   "execution_count": 18,
   "id": "667fa998",
   "metadata": {},
   "outputs": [
    {
     "data": {
      "text/plain": [
       "['nama', 'saya', 'ariana']"
      ]
     },
     "execution_count": 18,
     "metadata": {},
     "output_type": "execute_result"
    }
   ],
   "source": [
    "text=\"nama saya ariana\"\n",
    "text.split()"
   ]
  },
  {
   "cell_type": "code",
   "execution_count": 21,
   "id": "dcd3bd75",
   "metadata": {},
   "outputs": [
    {
     "name": "stdout",
     "output_type": "stream",
     "text": [
      "2030\n"
     ]
    }
   ],
   "source": [
    "a = \"20\"\n",
    "b = \"30\"\n",
    "\n",
    "print(a + b)"
   ]
  },
  {
   "cell_type": "code",
   "execution_count": 22,
   "id": "200a4188",
   "metadata": {},
   "outputs": [
    {
     "name": "stdout",
     "output_type": "stream",
     "text": [
      "30\n"
     ]
    }
   ],
   "source": [
    "a = 10\n",
    "b = 20\n",
    "\n",
    "print(a + b)"
   ]
  },
  {
   "cell_type": "code",
   "execution_count": 24,
   "id": "3fe4ba22",
   "metadata": {},
   "outputs": [
    {
     "name": "stdout",
     "output_type": "stream",
     "text": [
      "30\n"
     ]
    }
   ],
   "source": [
    "num_of_students = 30\n",
    "\n",
    "print(num_of_students)"
   ]
  },
  {
   "cell_type": "code",
   "execution_count": 28,
   "id": "958d524a",
   "metadata": {},
   "outputs": [
    {
     "name": "stdout",
     "output_type": "stream",
     "text": [
      "Danial\n"
     ]
    }
   ],
   "source": [
    "students = [\"Rahman\", \"Ariana\", \"Danial\", \"Adam\"]\n",
    "\n",
    "print(students[2])"
   ]
  },
  {
   "cell_type": "code",
   "execution_count": 29,
   "id": "3ea4ceac",
   "metadata": {},
   "outputs": [
    {
     "name": "stdout",
     "output_type": "stream",
     "text": [
      "['Rahman', 'Ariana', 'Danial', 'Adam', 'Jas']\n"
     ]
    }
   ],
   "source": [
    "students = [\"Rahman\", \"Ariana\", \"Danial\", \"Adam\"]\n",
    "students.append(\"Jas\")\n",
    "print(students)\n"
   ]
  },
  {
   "cell_type": "code",
   "execution_count": 30,
   "id": "77a93a6e",
   "metadata": {},
   "outputs": [
    {
     "name": "stdout",
     "output_type": "stream",
     "text": [
      "['Rahman', 'Jas', 'Ariana', 'Danial', 'Adam']\n"
     ]
    }
   ],
   "source": [
    "students = [\"Rahman\", \"Ariana\", \"Danial\", \"Adam\"]\n",
    "students.insert(1,\"Jas\")\n",
    "print(students)"
   ]
  },
  {
   "cell_type": "code",
   "execution_count": 31,
   "id": "e980de07",
   "metadata": {},
   "outputs": [
    {
     "name": "stdout",
     "output_type": "stream",
     "text": [
      "['Ariana', 'Danial', 'Adam']\n"
     ]
    }
   ],
   "source": [
    "students = [\"Rahman\", \"Ariana\", \"Danial\", \"Adam\"]\n",
    "students.remove(\"Rahman\")\n",
    "print(students)"
   ]
  },
  {
   "cell_type": "code",
   "execution_count": 34,
   "id": "be0a81c2",
   "metadata": {},
   "outputs": [
    {
     "name": "stdout",
     "output_type": "stream",
     "text": [
      "4\n"
     ]
    }
   ],
   "source": [
    "students = [\"Rahman\", \"Ariana\", \"Danial\", \"Adam\"]\n",
    "print(len(students))"
   ]
  },
  {
   "cell_type": "code",
   "execution_count": 35,
   "id": "372326b7",
   "metadata": {},
   "outputs": [
    {
     "name": "stdout",
     "output_type": "stream",
     "text": [
      "True\n"
     ]
    }
   ],
   "source": [
    "students = [\"Rahman\", \"Ariana\", \"Danial\", \"Adam\"]\n",
    "print(\"Rahman\" in students) "
   ]
  },
  {
   "cell_type": "code",
   "execution_count": 37,
   "id": "48cb275f",
   "metadata": {},
   "outputs": [
    {
     "name": "stdout",
     "output_type": "stream",
     "text": [
      "23\n"
     ]
    }
   ],
   "source": [
    "students_age = {\n",
    "    \"Rahman\": 21,\n",
    "    \"Ariana\": 22,\n",
    "    \"Danial\": 23,\n",
    "    \"Adam\": 20\n",
    "}\n",
    "\n",
    "print(students_age[\"Danial\"])"
   ]
  },
  {
   "cell_type": "code",
   "execution_count": 41,
   "id": "2617d65f",
   "metadata": {},
   "outputs": [
    {
     "name": "stdout",
     "output_type": "stream",
     "text": [
      "{'Rahman': 21, 'Ariana': 22, 'Danial': 23, 'Adam': 20, 'Fathu': 18}\n"
     ]
    }
   ],
   "source": [
    "students_age = {\n",
    "    \"Rahman\": 21,\n",
    "    \"Ariana\": 22,\n",
    "    \"Danial\": 23,\n",
    "    \"Adam\": 20\n",
    "}\n",
    "\n",
    "students_age[\"Fathu\"] = 18\n",
    "\n",
    "print(students_age)"
   ]
  },
  {
   "cell_type": "code",
   "execution_count": 43,
   "id": "b99625ed",
   "metadata": {},
   "outputs": [
    {
     "name": "stdout",
     "output_type": "stream",
     "text": [
      "{'Ariana': 22, 'Danial': 23, 'Adam': 20}\n"
     ]
    }
   ],
   "source": [
    "students_age = {\n",
    "    \"Rahman\": 21,\n",
    "    \"Ariana\": 22,\n",
    "    \"Danial\": 23,\n",
    "    \"Adam\": 20\n",
    "}\n",
    "\n",
    "students_age.pop(\"Rahman\")\n",
    "print(students_age)"
   ]
  },
  {
   "cell_type": "code",
   "execution_count": 2,
   "id": "7141bb4e",
   "metadata": {},
   "outputs": [
    {
     "name": "stdout",
     "output_type": "stream",
     "text": [
      "You are not allowed to enter the premise\n"
     ]
    }
   ],
   "source": [
    "name = 'Ariana'\n",
    "\n",
    "if name =='Ariana':\n",
    "    print(\"You are not allowed to enter the premise\")\n",
    "else:\n",
    "    print(\"You are eligible to enter\")"
   ]
  },
  {
   "cell_type": "code",
   "execution_count": null,
   "id": "4d93e09c",
   "metadata": {},
   "outputs": [],
   "source": [
    "while True:\n",
    "    if name == "
   ]
  }
 ],
 "metadata": {
  "kernelspec": {
   "display_name": "Python 3",
   "language": "python",
   "name": "python3"
  },
  "language_info": {
   "codemirror_mode": {
    "name": "ipython",
    "version": 3
   },
   "file_extension": ".py",
   "mimetype": "text/x-python",
   "name": "python",
   "nbconvert_exporter": "python",
   "pygments_lexer": "ipython3",
   "version": "3.12.1"
  }
 },
 "nbformat": 4,
 "nbformat_minor": 5
}
